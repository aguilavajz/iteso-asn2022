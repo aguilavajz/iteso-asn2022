{
 "cells": [
  {
   "cell_type": "code",
   "execution_count": 2,
   "metadata": {},
   "outputs": [],
   "source": [
    "import boto3\n",
    "\n",
    "#funcion para subir imagenes\n",
    "def subir_imagen(archivo,nombre,bucket):\n",
    "    data = open(archivo, 'rb')\n",
    "    s3.Bucket(bucket).put_object(Key=nombre, Body=data)\n",
    "\n",
    "# Usar servicio AWS S3\n",
    "s3 = boto3.resource('s3')\n",
    "bucketName = 'asn-imagenes-vajz'\n",
    "\n",
    "#Subir archivos para comparacion de caras\n",
    "subir_imagen('antes.jpg','antes-py.jpg',bucketName)\n",
    "subir_imagen('ahora.jpeg','ahora-py.jpeg',bucketName)\n",
    "\n",
    "#Subir archivos para identificacion\n",
    "subir_imagen('perro.jpg','perro-py.jpeg',bucketName)\n",
    "subir_imagen('gato.jpg','gato-py.jpeg',bucketName)\n",
    "subir_imagen('jirafa.jpg','jirafa-py.jpeg',bucketName)"
   ]
  },
  {
   "cell_type": "code",
   "execution_count": 16,
   "metadata": {},
   "outputs": [
    {
     "data": {
      "text/plain": [
       "{'ResponseMetadata': {'RequestId': 'C9DGEMMATZ78Z9XR',\n",
       "  'HostId': '6xgFvCnCNsoMlZG+Ht43aT55n5gdIidMIzPcgCfjZYWj/f72UEhHPmh2olmd7/2mk1AEZCRN0ps=',\n",
       "  'HTTPStatusCode': 200,\n",
       "  'HTTPHeaders': {'x-amz-id-2': '6xgFvCnCNsoMlZG+Ht43aT55n5gdIidMIzPcgCfjZYWj/f72UEhHPmh2olmd7/2mk1AEZCRN0ps=',\n",
       "   'x-amz-request-id': 'C9DGEMMATZ78Z9XR',\n",
       "   'date': 'Tue, 22 Mar 2022 03:17:10 GMT',\n",
       "   'x-amz-bucket-region': 'us-east-1',\n",
       "   'content-type': 'application/xml',\n",
       "   'transfer-encoding': 'chunked',\n",
       "   'server': 'AmazonS3'},\n",
       "  'RetryAttempts': 0},\n",
       " 'IsTruncated': False,\n",
       " 'Marker': '',\n",
       " 'Contents': [{'Key': 'ahora-py.jpeg',\n",
       "   'LastModified': datetime.datetime(2022, 3, 22, 2, 50, 32, tzinfo=tzutc()),\n",
       "   'ETag': '\"a17aad6e803b092151f241c1327c1fda\"',\n",
       "   'Size': 631603,\n",
       "   'StorageClass': 'STANDARD',\n",
       "   'Owner': {'DisplayName': 'aguilavajz',\n",
       "    'ID': '7fc34d364aa5c9bfb1423cf8ce242202181437c1740ec0110a1af23a4f33bf5d'}},\n",
       "  {'Key': 'ahora.jpeg',\n",
       "   'LastModified': datetime.datetime(2022, 3, 22, 0, 22, 39, tzinfo=tzutc()),\n",
       "   'ETag': '\"a17aad6e803b092151f241c1327c1fda\"',\n",
       "   'Size': 631603,\n",
       "   'StorageClass': 'STANDARD',\n",
       "   'Owner': {'DisplayName': 'aguilavajz',\n",
       "    'ID': '7fc34d364aa5c9bfb1423cf8ce242202181437c1740ec0110a1af23a4f33bf5d'}},\n",
       "  {'Key': 'antes-py.jpg',\n",
       "   'LastModified': datetime.datetime(2022, 3, 22, 2, 50, 32, tzinfo=tzutc()),\n",
       "   'ETag': '\"d58deaf60b8eff0ab362537dd7e5a101\"',\n",
       "   'Size': 84087,\n",
       "   'StorageClass': 'STANDARD',\n",
       "   'Owner': {'DisplayName': 'aguilavajz',\n",
       "    'ID': '7fc34d364aa5c9bfb1423cf8ce242202181437c1740ec0110a1af23a4f33bf5d'}},\n",
       "  {'Key': 'antes.jpg',\n",
       "   'LastModified': datetime.datetime(2022, 3, 22, 0, 22, 16, tzinfo=tzutc()),\n",
       "   'ETag': '\"d58deaf60b8eff0ab362537dd7e5a101\"',\n",
       "   'Size': 84087,\n",
       "   'StorageClass': 'STANDARD',\n",
       "   'Owner': {'DisplayName': 'aguilavajz',\n",
       "    'ID': '7fc34d364aa5c9bfb1423cf8ce242202181437c1740ec0110a1af23a4f33bf5d'}},\n",
       "  {'Key': 'gato-py.jpeg',\n",
       "   'LastModified': datetime.datetime(2022, 3, 22, 2, 50, 32, tzinfo=tzutc()),\n",
       "   'ETag': '\"b153956e3540357602794cd63d32ac01\"',\n",
       "   'Size': 7635,\n",
       "   'StorageClass': 'STANDARD',\n",
       "   'Owner': {'DisplayName': 'aguilavajz',\n",
       "    'ID': '7fc34d364aa5c9bfb1423cf8ce242202181437c1740ec0110a1af23a4f33bf5d'}},\n",
       "  {'Key': 'gato.jpg',\n",
       "   'LastModified': datetime.datetime(2022, 3, 22, 1, 9, 21, tzinfo=tzutc()),\n",
       "   'ETag': '\"b153956e3540357602794cd63d32ac01\"',\n",
       "   'Size': 7635,\n",
       "   'StorageClass': 'STANDARD',\n",
       "   'Owner': {'DisplayName': 'aguilavajz',\n",
       "    'ID': '7fc34d364aa5c9bfb1423cf8ce242202181437c1740ec0110a1af23a4f33bf5d'}},\n",
       "  {'Key': 'jirafa-py.jpeg',\n",
       "   'LastModified': datetime.datetime(2022, 3, 22, 2, 50, 32, tzinfo=tzutc()),\n",
       "   'ETag': '\"52745a676f0da2fcc12ecb135e5eea23\"',\n",
       "   'Size': 17547,\n",
       "   'StorageClass': 'STANDARD',\n",
       "   'Owner': {'DisplayName': 'aguilavajz',\n",
       "    'ID': '7fc34d364aa5c9bfb1423cf8ce242202181437c1740ec0110a1af23a4f33bf5d'}},\n",
       "  {'Key': 'jirafa.jpg',\n",
       "   'LastModified': datetime.datetime(2022, 3, 22, 1, 9, 26, tzinfo=tzutc()),\n",
       "   'ETag': '\"52745a676f0da2fcc12ecb135e5eea23\"',\n",
       "   'Size': 17547,\n",
       "   'StorageClass': 'STANDARD',\n",
       "   'Owner': {'DisplayName': 'aguilavajz',\n",
       "    'ID': '7fc34d364aa5c9bfb1423cf8ce242202181437c1740ec0110a1af23a4f33bf5d'}},\n",
       "  {'Key': 'perro-py.jpeg',\n",
       "   'LastModified': datetime.datetime(2022, 3, 22, 2, 50, 32, tzinfo=tzutc()),\n",
       "   'ETag': '\"34587fa899c7d08d4d407052f8a7b8b7\"',\n",
       "   'Size': 8299,\n",
       "   'StorageClass': 'STANDARD',\n",
       "   'Owner': {'DisplayName': 'aguilavajz',\n",
       "    'ID': '7fc34d364aa5c9bfb1423cf8ce242202181437c1740ec0110a1af23a4f33bf5d'}},\n",
       "  {'Key': 'perro.jpg',\n",
       "   'LastModified': datetime.datetime(2022, 3, 22, 1, 9, 32, tzinfo=tzutc()),\n",
       "   'ETag': '\"34587fa899c7d08d4d407052f8a7b8b7\"',\n",
       "   'Size': 8299,\n",
       "   'StorageClass': 'STANDARD',\n",
       "   'Owner': {'DisplayName': 'aguilavajz',\n",
       "    'ID': '7fc34d364aa5c9bfb1423cf8ce242202181437c1740ec0110a1af23a4f33bf5d'}}],\n",
       " 'Name': 'asn-imagenes-vajz',\n",
       " 'Prefix': '',\n",
       " 'MaxKeys': 1000,\n",
       " 'EncodingType': 'url'}"
      ]
     },
     "execution_count": 16,
     "metadata": {},
     "output_type": "execute_result"
    }
   ],
   "source": [
    "client = boto3.client('s3')\n",
    "\n",
    "client.list_objects(Bucket=bucketName)"
   ]
  },
  {
   "cell_type": "code",
   "execution_count": 18,
   "metadata": {},
   "outputs": [
    {
     "name": "stdout",
     "output_type": "stream",
     "text": [
      "{'SourceImageFace': {'BoundingBox': {'Width': 0.3177441358566284, 'Height': 0.19550201296806335, 'Left': 0.2881333827972412, 'Top': 0.23958820104599}, 'Confidence': 99.99337005615234}, 'FaceMatches': [], 'UnmatchedFaces': [{'BoundingBox': {'Width': 0.42132291197776794, 'Height': 0.3181328773498535, 'Left': 0.22126834094524384, 'Top': 0.49970459938049316}, 'Confidence': 99.9991455078125, 'Landmarks': [{'Type': 'eyeLeft', 'X': 0.35837289690971375, 'Y': 0.6239652633666992}, {'Type': 'eyeRight', 'X': 0.5467112064361572, 'Y': 0.6208862662315369}, {'Type': 'mouthLeft', 'X': 0.38572603464126587, 'Y': 0.7289400100708008}, {'Type': 'mouthRight', 'X': 0.5425794720649719, 'Y': 0.7261636853218079}, {'Type': 'nose', 'X': 0.47912314534187317, 'Y': 0.6660112738609314}], 'Pose': {'Roll': -0.7936130166053772, 'Yaw': 6.637938976287842, 'Pitch': 15.249184608459473}, 'Quality': {'Brightness': 92.84254455566406, 'Sharpness': 95.51618957519531}}], 'ResponseMetadata': {'RequestId': 'df8d9eda-21ac-4550-ba76-cec8ee2dce57', 'HTTPStatusCode': 200, 'HTTPHeaders': {'x-amzn-requestid': 'df8d9eda-21ac-4550-ba76-cec8ee2dce57', 'content-type': 'application/x-amz-json-1.1', 'content-length': '871', 'date': 'Tue, 22 Mar 2022 03:21:40 GMT'}, 'RetryAttempts': 0}}\n"
     ]
    }
   ],
   "source": [
    "client = boto3.client('rekognition')\n",
    "\n",
    "response = client.compare_faces(\n",
    "    SourceImage={\n",
    "        'S3Object': {\n",
    "            'Bucket': bucketName,\n",
    "            'Name': 'antes-py.jpg'\n",
    "        }\n",
    "    },\n",
    "    TargetImage={\n",
    "        'S3Object': {\n",
    "            'Bucket': bucketName,\n",
    "            'Name': 'ahora-py.jpeg'\n",
    "        }\n",
    "    }\n",
    ")\n",
    "\n",
    "print(response)"
   ]
  },
  {
   "cell_type": "code",
   "execution_count": 30,
   "metadata": {},
   "outputs": [],
   "source": [
    "def identificar_imagen(archivo,bucketName):\n",
    "    response = client.detect_labels(\n",
    "        Image={\n",
    "            'S3Object': {\n",
    "            'Bucket': bucketName,\n",
    "            'Name': archivo\n",
    "            }\n",
    "        }\n",
    "    )\n",
    "\n",
    "    print(response)"
   ]
  },
  {
   "cell_type": "code",
   "execution_count": 31,
   "metadata": {},
   "outputs": [
    {
     "name": "stdout",
     "output_type": "stream",
     "text": [
      "{'Labels': [{'Name': 'Canine', 'Confidence': 88.9555435180664, 'Instances': [], 'Parents': [{'Name': 'Mammal'}, {'Name': 'Animal'}]}, {'Name': 'Animal', 'Confidence': 88.9555435180664, 'Instances': [], 'Parents': []}, {'Name': 'Mammal', 'Confidence': 88.9555435180664, 'Instances': [], 'Parents': [{'Name': 'Animal'}]}, {'Name': 'Pet', 'Confidence': 88.47384643554688, 'Instances': [], 'Parents': [{'Name': 'Animal'}]}, {'Name': 'Dog', 'Confidence': 87.97314453125, 'Instances': [{'BoundingBox': {'Width': 0.7723897099494934, 'Height': 0.9114677309989929, 'Left': 0.009134724736213684, 'Top': 0.08332395553588867}, 'Confidence': 81.62232971191406}], 'Parents': [{'Name': 'Pet'}, {'Name': 'Canine'}, {'Name': 'Animal'}, {'Name': 'Mammal'}]}, {'Name': 'Bulldog', 'Confidence': 77.64033508300781, 'Instances': [], 'Parents': [{'Name': 'Dog'}, {'Name': 'Pet'}, {'Name': 'Canine'}, {'Name': 'Animal'}, {'Name': 'Mammal'}]}, {'Name': 'Pitbull', 'Confidence': 70.76516723632812, 'Instances': [], 'Parents': [{'Name': 'Bulldog'}, {'Name': 'Dog'}, {'Name': 'Pet'}, {'Name': 'Canine'}, {'Name': 'Animal'}, {'Name': 'Mammal'}]}, {'Name': 'Boxer', 'Confidence': 68.89614868164062, 'Instances': [], 'Parents': [{'Name': 'Bulldog'}, {'Name': 'Dog'}, {'Name': 'Pet'}, {'Name': 'Canine'}, {'Name': 'Animal'}, {'Name': 'Mammal'}]}, {'Name': 'Hound', 'Confidence': 60.861976623535156, 'Instances': [], 'Parents': [{'Name': 'Dog'}, {'Name': 'Pet'}, {'Name': 'Canine'}, {'Name': 'Animal'}, {'Name': 'Mammal'}]}], 'LabelModelVersion': '2.0', 'ResponseMetadata': {'RequestId': 'a40f1de4-3be5-4e73-827b-c43b458ae7ff', 'HTTPStatusCode': 200, 'HTTPHeaders': {'x-amzn-requestid': 'a40f1de4-3be5-4e73-827b-c43b458ae7ff', 'content-type': 'application/x-amz-json-1.1', 'content-length': '1384', 'date': 'Tue, 22 Mar 2022 03:26:04 GMT'}, 'RetryAttempts': 0}}\n"
     ]
    }
   ],
   "source": [
    "identificar_imagen('perro-py.jpeg',bucketName)"
   ]
  },
  {
   "cell_type": "code",
   "execution_count": 32,
   "metadata": {},
   "outputs": [
    {
     "name": "stdout",
     "output_type": "stream",
     "text": [
      "{'Labels': [{'Name': 'Pet', 'Confidence': 89.16759490966797, 'Instances': [], 'Parents': [{'Name': 'Animal'}]}, {'Name': 'Animal', 'Confidence': 89.16759490966797, 'Instances': [], 'Parents': []}, {'Name': 'Cat', 'Confidence': 87.68495178222656, 'Instances': [{'BoundingBox': {'Width': 0.8124542832374573, 'Height': 0.940441906452179, 'Left': 0.0, 'Top': 0.027298439294099808}, 'Confidence': 69.50316619873047}], 'Parents': [{'Name': 'Pet'}, {'Name': 'Mammal'}, {'Name': 'Animal'}]}, {'Name': 'Mammal', 'Confidence': 87.68495178222656, 'Instances': [], 'Parents': [{'Name': 'Animal'}]}, {'Name': 'Abyssinian', 'Confidence': 77.5865478515625, 'Instances': [], 'Parents': [{'Name': 'Cat'}, {'Name': 'Pet'}, {'Name': 'Mammal'}, {'Name': 'Animal'}]}, {'Name': 'Panther', 'Confidence': 75.53248596191406, 'Instances': [{'BoundingBox': {'Width': 0.822566032409668, 'Height': 0.898197591304779, 'Left': 0.006335179787129164, 'Top': 0.06266763806343079}, 'Confidence': 75.53248596191406}], 'Parents': [{'Name': 'Wildlife'}, {'Name': 'Mammal'}, {'Name': 'Animal'}]}, {'Name': 'Wildlife', 'Confidence': 75.53248596191406, 'Instances': [], 'Parents': [{'Name': 'Animal'}]}, {'Name': 'Leopard', 'Confidence': 75.53248596191406, 'Instances': [], 'Parents': [{'Name': 'Wildlife'}, {'Name': 'Mammal'}, {'Name': 'Animal'}]}, {'Name': 'Jaguar', 'Confidence': 75.53248596191406, 'Instances': [], 'Parents': [{'Name': 'Wildlife'}, {'Name': 'Mammal'}, {'Name': 'Animal'}]}, {'Name': 'Manx', 'Confidence': 58.4162483215332, 'Instances': [], 'Parents': [{'Name': 'Cat'}, {'Name': 'Pet'}, {'Name': 'Mammal'}, {'Name': 'Animal'}]}, {'Name': 'Egyptian Cat', 'Confidence': 55.9307861328125, 'Instances': [], 'Parents': [{'Name': 'Cat'}, {'Name': 'Pet'}, {'Name': 'Mammal'}, {'Name': 'Animal'}]}], 'LabelModelVersion': '2.0', 'ResponseMetadata': {'RequestId': '91bc3b43-e4bc-4b52-9dae-600c3e34f410', 'HTTPStatusCode': 200, 'HTTPHeaders': {'x-amzn-requestid': '91bc3b43-e4bc-4b52-9dae-600c3e34f410', 'content-type': 'application/x-amz-json-1.1', 'content-length': '1644', 'date': 'Tue, 22 Mar 2022 03:29:28 GMT'}, 'RetryAttempts': 0}}\n"
     ]
    }
   ],
   "source": [
    "identificar_imagen('gato-py.jpeg',bucketName)"
   ]
  },
  {
   "cell_type": "code",
   "execution_count": 33,
   "metadata": {},
   "outputs": [
    {
     "name": "stdout",
     "output_type": "stream",
     "text": [
      "{'Labels': [{'Name': 'Wildlife', 'Confidence': 94.48368835449219, 'Instances': [], 'Parents': [{'Name': 'Animal'}]}, {'Name': 'Animal', 'Confidence': 94.48368835449219, 'Instances': [], 'Parents': []}, {'Name': 'Mammal', 'Confidence': 93.72168731689453, 'Instances': [], 'Parents': [{'Name': 'Animal'}]}, {'Name': 'Giraffe', 'Confidence': 93.68213653564453, 'Instances': [{'BoundingBox': {'Width': 0.7482964992523193, 'Height': 0.9036903977394104, 'Left': 0.17995737493038177, 'Top': 0.08070904016494751}, 'Confidence': 91.14501190185547}], 'Parents': [{'Name': 'Wildlife'}, {'Name': 'Mammal'}, {'Name': 'Animal'}]}], 'LabelModelVersion': '2.0', 'ResponseMetadata': {'RequestId': 'fae7829f-aa4d-4879-be1e-103d4e32648e', 'HTTPStatusCode': 200, 'HTTPHeaders': {'x-amzn-requestid': 'fae7829f-aa4d-4879-be1e-103d4e32648e', 'content-type': 'application/x-amz-json-1.1', 'content-length': '594', 'date': 'Tue, 22 Mar 2022 03:29:34 GMT'}, 'RetryAttempts': 0}}\n"
     ]
    }
   ],
   "source": [
    "identificar_imagen('jirafa-py.jpeg',bucketName)"
   ]
  }
 ],
 "metadata": {
  "interpreter": {
   "hash": "b3ba2566441a7c06988d0923437866b63cedc61552a5af99d1f4fb67d367b25f"
  },
  "kernelspec": {
   "display_name": "Python 3.9.7 ('base')",
   "language": "python",
   "name": "python3"
  },
  "language_info": {
   "codemirror_mode": {
    "name": "ipython",
    "version": 3
   },
   "file_extension": ".py",
   "mimetype": "text/x-python",
   "name": "python",
   "nbconvert_exporter": "python",
   "pygments_lexer": "ipython3",
   "version": "3.9.7"
  },
  "orig_nbformat": 4
 },
 "nbformat": 4,
 "nbformat_minor": 2
}
